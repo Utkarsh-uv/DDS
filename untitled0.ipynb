{
  "nbformat": 4,
  "nbformat_minor": 0,
  "metadata": {
    "colab": {
      "provenance": [],
      "authorship_tag": "ABX9TyMHBL3wl2DWCl9T9HqClxHU",
      "include_colab_link": true
    },
    "kernelspec": {
      "name": "python3",
      "display_name": "Python 3"
    },
    "language_info": {
      "name": "python"
    }
  },
  "cells": [
    {
      "cell_type": "markdown",
      "metadata": {
        "id": "view-in-github",
        "colab_type": "text"
      },
      "source": [
        "<a href=\"https://colab.research.google.com/github/Utkarsh-uv/DDS/blob/main/untitled0.ipynb\" target=\"_parent\"><img src=\"https://colab.research.google.com/assets/colab-badge.svg\" alt=\"Open In Colab\"/></a>"
      ]
    },
    {
      "cell_type": "code",
      "execution_count": null,
      "metadata": {
        "collapsed": true,
        "id": "bww2OR_Q8crW"
      },
      "outputs": [],
      "source": [
        "\n",
        "while True:\n",
        "    X=5\n",
        "    Y=6\n",
        "    print(X+Y)"
      ]
    },
    {
      "cell_type": "markdown",
      "source": [],
      "metadata": {
        "id": "1KTddpx3_S4x"
      }
    },
    {
      "cell_type": "code",
      "source": [
        "\n",
        "while True:\n",
        "    X=int(input(\"enter a\"))\n",
        "    Y=int(input(\"enter b\"))\n",
        "    print(X+Y)"
      ],
      "metadata": {
        "id": "rzwJFhIG_Tcm"
      },
      "execution_count": null,
      "outputs": []
    },
    {
      "cell_type": "code",
      "source": [
        "while True:\n",
        "    X=int(input(\"enter a\"))\n",
        "    Y=int(input(\"enter b\"))\n",
        "    char= input(\"enter op\")\n",
        "    if char==\"+\":\n",
        "        print(X+Y)\n",
        "    elif char==\"-\":\n",
        "        print(X-Y)\n",
        "    elif char==\"*\":\n",
        "        print(X*Y)\n",
        "    elif char==\"/\":\n",
        "        print(X/Y)\n",
        "    elif char==\"%\":\n",
        "          print(X%Y)\n",
        "    else:\n",
        "        print(\"na\")"
      ],
      "metadata": {
        "colab": {
          "base_uri": "https://localhost:8080/"
        },
        "id": "u8p8r0zJENbO",
        "outputId": "0359b058-1902-47c3-9cd5-0e42f1f9c48e"
      },
      "execution_count": null,
      "outputs": [
        {
          "output_type": "stream",
          "name": "stdout",
          "text": [
            "enter a5\n",
            "enter b6\n",
            "enter op+\n",
            "11\n",
            "enter a7\n",
            "enter b8\n",
            "enter op*\n",
            "56\n",
            "enter a4\n",
            "enter b3\n",
            "enter op/\n",
            "1.3333333333333333\n",
            "enter a9\n",
            "enter b0\n",
            "enter op-\n",
            "9\n",
            "enter a8\n",
            "enter b4\n",
            "enter op%\n",
            "0\n",
            "enter a6\n",
            "enter b7\n",
            "enter op&\n",
            "na\n"
          ]
        }
      ]
    }
  ]
}